{
  "nbformat": 4,
  "nbformat_minor": 0,
  "metadata": {
    "accelerator": "GPU",
    "colab": {
      "name": "Ez Lucid Sonic Dreams - Tutorial Notebook",
      "provenance": [],
      "collapsed_sections": [],
      "toc_visible": true,
      "include_colab_link": true
    },
    "kernelspec": {
      "display_name": "Python 3",
      "name": "python3"
    }
  },
  "cells": [
    {
      "cell_type": "markdown",
      "metadata": {
        "id": "view-in-github",
        "colab_type": "text"
      },
      "source": [
        "<a href=\"https://colab.research.google.com/github/pesesito/Ez_Lucid_Sonic_Dreams/blob/main/Ez_Lucid_Sonic_Dreams_Tutorial_Notebook.ipynb\" target=\"_parent\"><img src=\"https://colab.research.google.com/assets/colab-badge.svg\" alt=\"Open In Colab\"/></a>"
      ]
    },
    {
      "cell_type": "markdown",
      "metadata": {
        "id": "kSBBXrcy1ssE"
      },
      "source": [
        "# A. Set-Up"
      ]
    },
    {
      "cell_type": "markdown",
      "metadata": {
        "id": "0kBYttBTtlho"
      },
      "source": [
        "## A.1. Set-up GPU\r\n",
        "\r\n",
        "Navigate to **Runtime -> Change runtime type** and make sure **Hardware accelerator** is set to GPU."
      ]
    },
    {
      "cell_type": "markdown",
      "metadata": {
        "id": "0TNT-1MDzq9v"
      },
      "source": [
        "\r\n",
        "# You can only use mp3 files.\r\n"
      ]
    },
    {
      "cell_type": "code",
      "metadata": {
        "colab": {
          "resources": {
            "http://localhost:8080/nbextensions/google.colab/files.js": {
              "data": "Ly8gQ29weXJpZ2h0IDIwMTcgR29vZ2xlIExMQwovLwovLyBMaWNlbnNlZCB1bmRlciB0aGUgQXBhY2hlIExpY2Vuc2UsIFZlcnNpb24gMi4wICh0aGUgIkxpY2Vuc2UiKTsKLy8geW91IG1heSBub3QgdXNlIHRoaXMgZmlsZSBleGNlcHQgaW4gY29tcGxpYW5jZSB3aXRoIHRoZSBMaWNlbnNlLgovLyBZb3UgbWF5IG9idGFpbiBhIGNvcHkgb2YgdGhlIExpY2Vuc2UgYXQKLy8KLy8gICAgICBodHRwOi8vd3d3LmFwYWNoZS5vcmcvbGljZW5zZXMvTElDRU5TRS0yLjAKLy8KLy8gVW5sZXNzIHJlcXVpcmVkIGJ5IGFwcGxpY2FibGUgbGF3IG9yIGFncmVlZCB0byBpbiB3cml0aW5nLCBzb2Z0d2FyZQovLyBkaXN0cmlidXRlZCB1bmRlciB0aGUgTGljZW5zZSBpcyBkaXN0cmlidXRlZCBvbiBhbiAiQVMgSVMiIEJBU0lTLAovLyBXSVRIT1VUIFdBUlJBTlRJRVMgT1IgQ09ORElUSU9OUyBPRiBBTlkgS0lORCwgZWl0aGVyIGV4cHJlc3Mgb3IgaW1wbGllZC4KLy8gU2VlIHRoZSBMaWNlbnNlIGZvciB0aGUgc3BlY2lmaWMgbGFuZ3VhZ2UgZ292ZXJuaW5nIHBlcm1pc3Npb25zIGFuZAovLyBsaW1pdGF0aW9ucyB1bmRlciB0aGUgTGljZW5zZS4KCi8qKgogKiBAZmlsZW92ZXJ2aWV3IEhlbHBlcnMgZm9yIGdvb2dsZS5jb2xhYiBQeXRob24gbW9kdWxlLgogKi8KKGZ1bmN0aW9uKHNjb3BlKSB7CmZ1bmN0aW9uIHNwYW4odGV4dCwgc3R5bGVBdHRyaWJ1dGVzID0ge30pIHsKICBjb25zdCBlbGVtZW50ID0gZG9jdW1lbnQuY3JlYXRlRWxlbWVudCgnc3BhbicpOwogIGVsZW1lbnQudGV4dENvbnRlbnQgPSB0ZXh0OwogIGZvciAoY29uc3Qga2V5IG9mIE9iamVjdC5rZXlzKHN0eWxlQXR0cmlidXRlcykpIHsKICAgIGVsZW1lbnQuc3R5bGVba2V5XSA9IHN0eWxlQXR0cmlidXRlc1trZXldOwogIH0KICByZXR1cm4gZWxlbWVudDsKfQoKLy8gTWF4IG51bWJlciBvZiBieXRlcyB3aGljaCB3aWxsIGJlIHVwbG9hZGVkIGF0IGEgdGltZS4KY29uc3QgTUFYX1BBWUxPQURfU0laRSA9IDEwMCAqIDEwMjQ7CgpmdW5jdGlvbiBfdXBsb2FkRmlsZXMoaW5wdXRJZCwgb3V0cHV0SWQpIHsKICBjb25zdCBzdGVwcyA9IHVwbG9hZEZpbGVzU3RlcChpbnB1dElkLCBvdXRwdXRJZCk7CiAgY29uc3Qgb3V0cHV0RWxlbWVudCA9IGRvY3VtZW50LmdldEVsZW1lbnRCeUlkKG91dHB1dElkKTsKICAvLyBDYWNoZSBzdGVwcyBvbiB0aGUgb3V0cHV0RWxlbWVudCB0byBtYWtlIGl0IGF2YWlsYWJsZSBmb3IgdGhlIG5leHQgY2FsbAogIC8vIHRvIHVwbG9hZEZpbGVzQ29udGludWUgZnJvbSBQeXRob24uCiAgb3V0cHV0RWxlbWVudC5zdGVwcyA9IHN0ZXBzOwoKICByZXR1cm4gX3VwbG9hZEZpbGVzQ29udGludWUob3V0cHV0SWQpOwp9CgovLyBUaGlzIGlzIHJvdWdobHkgYW4gYXN5bmMgZ2VuZXJhdG9yIChub3Qgc3VwcG9ydGVkIGluIHRoZSBicm93c2VyIHlldCksCi8vIHdoZXJlIHRoZXJlIGFyZSBtdWx0aXBsZSBhc3luY2hyb25vdXMgc3RlcHMgYW5kIHRoZSBQeXRob24gc2lkZSBpcyBnb2luZwovLyB0byBwb2xsIGZvciBjb21wbGV0aW9uIG9mIGVhY2ggc3RlcC4KLy8gVGhpcyB1c2VzIGEgUHJvbWlzZSB0byBibG9jayB0aGUgcHl0aG9uIHNpZGUgb24gY29tcGxldGlvbiBvZiBlYWNoIHN0ZXAsCi8vIHRoZW4gcGFzc2VzIHRoZSByZXN1bHQgb2YgdGhlIHByZXZpb3VzIHN0ZXAgYXMgdGhlIGlucHV0IHRvIHRoZSBuZXh0IHN0ZXAuCmZ1bmN0aW9uIF91cGxvYWRGaWxlc0NvbnRpbnVlKG91dHB1dElkKSB7CiAgY29uc3Qgb3V0cHV0RWxlbWVudCA9IGRvY3VtZW50LmdldEVsZW1lbnRCeUlkKG91dHB1dElkKTsKICBjb25zdCBzdGVwcyA9IG91dHB1dEVsZW1lbnQuc3RlcHM7CgogIGNvbnN0IG5leHQgPSBzdGVwcy5uZXh0KG91dHB1dEVsZW1lbnQubGFzdFByb21pc2VWYWx1ZSk7CiAgcmV0dXJuIFByb21pc2UucmVzb2x2ZShuZXh0LnZhbHVlLnByb21pc2UpLnRoZW4oKHZhbHVlKSA9PiB7CiAgICAvLyBDYWNoZSB0aGUgbGFzdCBwcm9taXNlIHZhbHVlIHRvIG1ha2UgaXQgYXZhaWxhYmxlIHRvIHRoZSBuZXh0CiAgICAvLyBzdGVwIG9mIHRoZSBnZW5lcmF0b3IuCiAgICBvdXRwdXRFbGVtZW50Lmxhc3RQcm9taXNlVmFsdWUgPSB2YWx1ZTsKICAgIHJldHVybiBuZXh0LnZhbHVlLnJlc3BvbnNlOwogIH0pOwp9CgovKioKICogR2VuZXJhdG9yIGZ1bmN0aW9uIHdoaWNoIGlzIGNhbGxlZCBiZXR3ZWVuIGVhY2ggYXN5bmMgc3RlcCBvZiB0aGUgdXBsb2FkCiAqIHByb2Nlc3MuCiAqIEBwYXJhbSB7c3RyaW5nfSBpbnB1dElkIEVsZW1lbnQgSUQgb2YgdGhlIGlucHV0IGZpbGUgcGlja2VyIGVsZW1lbnQuCiAqIEBwYXJhbSB7c3RyaW5nfSBvdXRwdXRJZCBFbGVtZW50IElEIG9mIHRoZSBvdXRwdXQgZGlzcGxheS4KICogQHJldHVybiB7IUl0ZXJhYmxlPCFPYmplY3Q+fSBJdGVyYWJsZSBvZiBuZXh0IHN0ZXBzLgogKi8KZnVuY3Rpb24qIHVwbG9hZEZpbGVzU3RlcChpbnB1dElkLCBvdXRwdXRJZCkgewogIGNvbnN0IGlucHV0RWxlbWVudCA9IGRvY3VtZW50LmdldEVsZW1lbnRCeUlkKGlucHV0SWQpOwogIGlucHV0RWxlbWVudC5kaXNhYmxlZCA9IGZhbHNlOwoKICBjb25zdCBvdXRwdXRFbGVtZW50ID0gZG9jdW1lbnQuZ2V0RWxlbWVudEJ5SWQob3V0cHV0SWQpOwogIG91dHB1dEVsZW1lbnQuaW5uZXJIVE1MID0gJyc7CgogIGNvbnN0IHBpY2tlZFByb21pc2UgPSBuZXcgUHJvbWlzZSgocmVzb2x2ZSkgPT4gewogICAgaW5wdXRFbGVtZW50LmFkZEV2ZW50TGlzdGVuZXIoJ2NoYW5nZScsIChlKSA9PiB7CiAgICAgIHJlc29sdmUoZS50YXJnZXQuZmlsZXMpOwogICAgfSk7CiAgfSk7CgogIGNvbnN0IGNhbmNlbCA9IGRvY3VtZW50LmNyZWF0ZUVsZW1lbnQoJ2J1dHRvbicpOwogIGlucHV0RWxlbWVudC5wYXJlbnRFbGVtZW50LmFwcGVuZENoaWxkKGNhbmNlbCk7CiAgY2FuY2VsLnRleHRDb250ZW50ID0gJ0NhbmNlbCB1cGxvYWQnOwogIGNvbnN0IGNhbmNlbFByb21pc2UgPSBuZXcgUHJvbWlzZSgocmVzb2x2ZSkgPT4gewogICAgY2FuY2VsLm9uY2xpY2sgPSAoKSA9PiB7CiAgICAgIHJlc29sdmUobnVsbCk7CiAgICB9OwogIH0pOwoKICAvLyBXYWl0IGZvciB0aGUgdXNlciB0byBwaWNrIHRoZSBmaWxlcy4KICBjb25zdCBmaWxlcyA9IHlpZWxkIHsKICAgIHByb21pc2U6IFByb21pc2UucmFjZShbcGlja2VkUHJvbWlzZSwgY2FuY2VsUHJvbWlzZV0pLAogICAgcmVzcG9uc2U6IHsKICAgICAgYWN0aW9uOiAnc3RhcnRpbmcnLAogICAgfQogIH07CgogIGNhbmNlbC5yZW1vdmUoKTsKCiAgLy8gRGlzYWJsZSB0aGUgaW5wdXQgZWxlbWVudCBzaW5jZSBmdXJ0aGVyIHBpY2tzIGFyZSBub3QgYWxsb3dlZC4KICBpbnB1dEVsZW1lbnQuZGlzYWJsZWQgPSB0cnVlOwoKICBpZiAoIWZpbGVzKSB7CiAgICByZXR1cm4gewogICAgICByZXNwb25zZTogewogICAgICAgIGFjdGlvbjogJ2NvbXBsZXRlJywKICAgICAgfQogICAgfTsKICB9CgogIGZvciAoY29uc3QgZmlsZSBvZiBmaWxlcykgewogICAgY29uc3QgbGkgPSBkb2N1bWVudC5jcmVhdGVFbGVtZW50KCdsaScpOwogICAgbGkuYXBwZW5kKHNwYW4oZmlsZS5uYW1lLCB7Zm9udFdlaWdodDogJ2JvbGQnfSkpOwogICAgbGkuYXBwZW5kKHNwYW4oCiAgICAgICAgYCgke2ZpbGUudHlwZSB8fCAnbi9hJ30pIC0gJHtmaWxlLnNpemV9IGJ5dGVzLCBgICsKICAgICAgICBgbGFzdCBtb2RpZmllZDogJHsKICAgICAgICAgICAgZmlsZS5sYXN0TW9kaWZpZWREYXRlID8gZmlsZS5sYXN0TW9kaWZpZWREYXRlLnRvTG9jYWxlRGF0ZVN0cmluZygpIDoKICAgICAgICAgICAgICAgICAgICAgICAgICAgICAgICAgICAgJ24vYSd9IC0gYCkpOwogICAgY29uc3QgcGVyY2VudCA9IHNwYW4oJzAlIGRvbmUnKTsKICAgIGxpLmFwcGVuZENoaWxkKHBlcmNlbnQpOwoKICAgIG91dHB1dEVsZW1lbnQuYXBwZW5kQ2hpbGQobGkpOwoKICAgIGNvbnN0IGZpbGVEYXRhUHJvbWlzZSA9IG5ldyBQcm9taXNlKChyZXNvbHZlKSA9PiB7CiAgICAgIGNvbnN0IHJlYWRlciA9IG5ldyBGaWxlUmVhZGVyKCk7CiAgICAgIHJlYWRlci5vbmxvYWQgPSAoZSkgPT4gewogICAgICAgIHJlc29sdmUoZS50YXJnZXQucmVzdWx0KTsKICAgICAgfTsKICAgICAgcmVhZGVyLnJlYWRBc0FycmF5QnVmZmVyKGZpbGUpOwogICAgfSk7CiAgICAvLyBXYWl0IGZvciB0aGUgZGF0YSB0byBiZSByZWFkeS4KICAgIGxldCBmaWxlRGF0YSA9IHlpZWxkIHsKICAgICAgcHJvbWlzZTogZmlsZURhdGFQcm9taXNlLAogICAgICByZXNwb25zZTogewogICAgICAgIGFjdGlvbjogJ2NvbnRpbnVlJywKICAgICAgfQogICAgfTsKCiAgICAvLyBVc2UgYSBjaHVua2VkIHNlbmRpbmcgdG8gYXZvaWQgbWVzc2FnZSBzaXplIGxpbWl0cy4gU2VlIGIvNjIxMTU2NjAuCiAgICBsZXQgcG9zaXRpb24gPSAwOwogICAgd2hpbGUgKHBvc2l0aW9uIDwgZmlsZURhdGEuYnl0ZUxlbmd0aCkgewogICAgICBjb25zdCBsZW5ndGggPSBNYXRoLm1pbihmaWxlRGF0YS5ieXRlTGVuZ3RoIC0gcG9zaXRpb24sIE1BWF9QQVlMT0FEX1NJWkUpOwogICAgICBjb25zdCBjaHVuayA9IG5ldyBVaW50OEFycmF5KGZpbGVEYXRhLCBwb3NpdGlvbiwgbGVuZ3RoKTsKICAgICAgcG9zaXRpb24gKz0gbGVuZ3RoOwoKICAgICAgY29uc3QgYmFzZTY0ID0gYnRvYShTdHJpbmcuZnJvbUNoYXJDb2RlLmFwcGx5KG51bGwsIGNodW5rKSk7CiAgICAgIHlpZWxkIHsKICAgICAgICByZXNwb25zZTogewogICAgICAgICAgYWN0aW9uOiAnYXBwZW5kJywKICAgICAgICAgIGZpbGU6IGZpbGUubmFtZSwKICAgICAgICAgIGRhdGE6IGJhc2U2NCwKICAgICAgICB9LAogICAgICB9OwogICAgICBwZXJjZW50LnRleHRDb250ZW50ID0KICAgICAgICAgIGAke01hdGgucm91bmQoKHBvc2l0aW9uIC8gZmlsZURhdGEuYnl0ZUxlbmd0aCkgKiAxMDApfSUgZG9uZWA7CiAgICB9CiAgfQoKICAvLyBBbGwgZG9uZS4KICB5aWVsZCB7CiAgICByZXNwb25zZTogewogICAgICBhY3Rpb246ICdjb21wbGV0ZScsCiAgICB9CiAgfTsKfQoKc2NvcGUuZ29vZ2xlID0gc2NvcGUuZ29vZ2xlIHx8IHt9OwpzY29wZS5nb29nbGUuY29sYWIgPSBzY29wZS5nb29nbGUuY29sYWIgfHwge307CnNjb3BlLmdvb2dsZS5jb2xhYi5fZmlsZXMgPSB7CiAgX3VwbG9hZEZpbGVzLAogIF91cGxvYWRGaWxlc0NvbnRpbnVlLAp9Owp9KShzZWxmKTsK",
              "ok": true,
              "headers": [
                [
                  "content-type",
                  "application/javascript"
                ]
              ],
              "status": 200,
              "status_text": ""
            }
          },
          "base_uri": "https://localhost:8080/",
          "height": 72
        },
        "id": "kQ_J7vDuxWd5",
        "outputId": "ac748526-2a33-4e6a-c72d-68a01e126a2c"
      },
      "source": [
        "from google.colab import files\r\n",
        "\r\n",
        "uploaded = files.upload()"
      ],
      "execution_count": null,
      "outputs": [
        {
          "output_type": "display_data",
          "data": {
            "text/html": [
              "\n",
              "     <input type=\"file\" id=\"files-7677e511-bd3f-4761-904d-fe371b74e89d\" name=\"files[]\" multiple disabled\n",
              "        style=\"border:none\" />\n",
              "     <output id=\"result-7677e511-bd3f-4761-904d-fe371b74e89d\">\n",
              "      Upload widget is only available when the cell has been executed in the\n",
              "      current browser session. Please rerun this cell to enable.\n",
              "      </output>\n",
              "      <script src=\"/nbextensions/google.colab/files.js\"></script> "
            ],
            "text/plain": [
              "<IPython.core.display.HTML object>"
            ]
          },
          "metadata": {
            "tags": []
          }
        },
        {
          "output_type": "stream",
          "text": [
            "Saving test.mp3 to test.mp3\n"
          ],
          "name": "stdout"
        }
      ]
    },
    {
      "cell_type": "code",
      "metadata": {
        "colab": {
          "base_uri": "https://localhost:8080/"
        },
        "id": "mCLtVanWyv4v",
        "outputId": "cf50fbab-7c77-4a0e-98af-cfa7b225c628"
      },
      "source": [
        "import os\r\n",
        "\r\n",
        "src = os.listdir('/content')[2]\r\n",
        "os.remove('raspberry.mp3')\r\n",
        "print(src)\r\n",
        "dst = 'raspberry.mp3'\r\n",
        "print(dst)\r\n",
        "os.rename(src, dst)"
      ],
      "execution_count": null,
      "outputs": [
        {
          "output_type": "stream",
          "text": [
            "test.mp3\n",
            "raspberry.mp3\n"
          ],
          "name": "stdout"
        }
      ]
    },
    {
      "cell_type": "markdown",
      "metadata": {
        "id": "PByrKtjcuMP8"
      },
      "source": [
        "## A.3. Install Lucid Sonic Dreams"
      ]
    },
    {
      "cell_type": "code",
      "metadata": {
        "id": "50buTzTKOf6x",
        "colab": {
          "base_uri": "https://localhost:8080/"
        },
        "outputId": "78f9524c-18ba-487c-e85c-f38560f98392"
      },
      "source": [
        "! pip install lucidsonicdreams"
      ],
      "execution_count": null,
      "outputs": [
        {
          "output_type": "stream",
          "text": [
            "Collecting lucidsonicdreams\n",
            "  Downloading https://files.pythonhosted.org/packages/4a/01/91ff8de2866a78435231966bf006eca06d7624c3f7cecce5b8c9b351d97d/lucidsonicdreams-0.4.tar.gz\n",
            "Collecting tensorflow==1.15\n",
            "\u001b[?25l  Downloading https://files.pythonhosted.org/packages/92/2b/e3af15221da9ff323521565fa3324b0d7c7c5b1d7a8ca66984c8d59cb0ce/tensorflow-1.15.0-cp37-cp37m-manylinux2010_x86_64.whl (412.3MB)\n",
            "\u001b[K     |████████████████████████████████| 412.3MB 41kB/s \n",
            "\u001b[?25hRequirement already satisfied: librosa in /usr/local/lib/python3.7/dist-packages (from lucidsonicdreams) (0.8.0)\n",
            "Requirement already satisfied: numpy in /usr/local/lib/python3.7/dist-packages (from lucidsonicdreams) (1.19.5)\n",
            "Requirement already satisfied: moviepy in /usr/local/lib/python3.7/dist-packages (from lucidsonicdreams) (0.2.3.5)\n",
            "Requirement already satisfied: Pillow in /usr/local/lib/python3.7/dist-packages (from lucidsonicdreams) (7.0.0)\n",
            "Requirement already satisfied: tqdm in /usr/local/lib/python3.7/dist-packages (from lucidsonicdreams) (4.41.1)\n",
            "Requirement already satisfied: scipy in /usr/local/lib/python3.7/dist-packages (from lucidsonicdreams) (1.4.1)\n",
            "Requirement already satisfied: scikit-image in /usr/local/lib/python3.7/dist-packages (from lucidsonicdreams) (0.16.2)\n",
            "Collecting pygit2\n",
            "\u001b[?25l  Downloading https://files.pythonhosted.org/packages/98/ed/41a09ca93374015958a18e37280d02c833238272ce3f2e28b10c6253477d/pygit2-1.5.0-cp37-cp37m-manylinux2014_x86_64.whl (3.1MB)\n",
            "\u001b[K     |████████████████████████████████| 3.1MB 41.5MB/s \n",
            "\u001b[?25hRequirement already satisfied: gdown in /usr/local/lib/python3.7/dist-packages (from lucidsonicdreams) (3.6.4)\n",
            "Collecting mega.py\n",
            "  Downloading https://files.pythonhosted.org/packages/a3/51/44a1085a091c27ade09e122d5abdafb4b6400265081879a7c4e32973a175/mega.py-1.0.8-py2.py3-none-any.whl\n",
            "Requirement already satisfied: requests in /usr/local/lib/python3.7/dist-packages (from lucidsonicdreams) (2.23.0)\n",
            "Requirement already satisfied: pandas in /usr/local/lib/python3.7/dist-packages (from lucidsonicdreams) (1.1.5)\n",
            "Requirement already satisfied: SoundFile in /usr/local/lib/python3.7/dist-packages (from lucidsonicdreams) (0.10.3.post1)\n",
            "Requirement already satisfied: wrapt>=1.11.1 in /usr/local/lib/python3.7/dist-packages (from tensorflow==1.15->lucidsonicdreams) (1.12.1)\n",
            "Requirement already satisfied: astor>=0.6.0 in /usr/local/lib/python3.7/dist-packages (from tensorflow==1.15->lucidsonicdreams) (0.8.1)\n",
            "Requirement already satisfied: keras-preprocessing>=1.0.5 in /usr/local/lib/python3.7/dist-packages (from tensorflow==1.15->lucidsonicdreams) (1.1.2)\n",
            "Collecting tensorflow-estimator==1.15.1\n",
            "\u001b[?25l  Downloading https://files.pythonhosted.org/packages/de/62/2ee9cd74c9fa2fa450877847ba560b260f5d0fb70ee0595203082dafcc9d/tensorflow_estimator-1.15.1-py2.py3-none-any.whl (503kB)\n",
            "\u001b[K     |████████████████████████████████| 512kB 52.1MB/s \n",
            "\u001b[?25hCollecting gast==0.2.2\n",
            "  Downloading https://files.pythonhosted.org/packages/4e/35/11749bf99b2d4e3cceb4d55ca22590b0d7c2c62b9de38ac4a4a7f4687421/gast-0.2.2.tar.gz\n",
            "Collecting keras-applications>=1.0.8\n",
            "\u001b[?25l  Downloading https://files.pythonhosted.org/packages/71/e3/19762fdfc62877ae9102edf6342d71b28fbfd9dea3d2f96a882ce099b03f/Keras_Applications-1.0.8-py3-none-any.whl (50kB)\n",
            "\u001b[K     |████████████████████████████████| 51kB 8.5MB/s \n",
            "\u001b[?25hRequirement already satisfied: opt-einsum>=2.3.2 in /usr/local/lib/python3.7/dist-packages (from tensorflow==1.15->lucidsonicdreams) (3.3.0)\n",
            "Requirement already satisfied: six>=1.10.0 in /usr/local/lib/python3.7/dist-packages (from tensorflow==1.15->lucidsonicdreams) (1.15.0)\n",
            "Requirement already satisfied: protobuf>=3.6.1 in /usr/local/lib/python3.7/dist-packages (from tensorflow==1.15->lucidsonicdreams) (3.12.4)\n",
            "Requirement already satisfied: absl-py>=0.7.0 in /usr/local/lib/python3.7/dist-packages (from tensorflow==1.15->lucidsonicdreams) (0.10.0)\n",
            "Requirement already satisfied: grpcio>=1.8.6 in /usr/local/lib/python3.7/dist-packages (from tensorflow==1.15->lucidsonicdreams) (1.32.0)\n",
            "Requirement already satisfied: wheel>=0.26 in /usr/local/lib/python3.7/dist-packages (from tensorflow==1.15->lucidsonicdreams) (0.36.2)\n",
            "Collecting tensorboard<1.16.0,>=1.15.0\n",
            "\u001b[?25l  Downloading https://files.pythonhosted.org/packages/1e/e9/d3d747a97f7188f48aa5eda486907f3b345cd409f0a0850468ba867db246/tensorboard-1.15.0-py3-none-any.whl (3.8MB)\n",
            "\u001b[K     |████████████████████████████████| 3.8MB 49.2MB/s \n",
            "\u001b[?25hRequirement already satisfied: termcolor>=1.1.0 in /usr/local/lib/python3.7/dist-packages (from tensorflow==1.15->lucidsonicdreams) (1.1.0)\n",
            "Requirement already satisfied: google-pasta>=0.1.6 in /usr/local/lib/python3.7/dist-packages (from tensorflow==1.15->lucidsonicdreams) (0.2.0)\n",
            "Requirement already satisfied: joblib>=0.14 in /usr/local/lib/python3.7/dist-packages (from librosa->lucidsonicdreams) (1.0.1)\n",
            "Requirement already satisfied: pooch>=1.0 in /usr/local/lib/python3.7/dist-packages (from librosa->lucidsonicdreams) (1.3.0)\n",
            "Requirement already satisfied: decorator>=3.0.0 in /usr/local/lib/python3.7/dist-packages (from librosa->lucidsonicdreams) (4.4.2)\n",
            "Requirement already satisfied: numba>=0.43.0 in /usr/local/lib/python3.7/dist-packages (from librosa->lucidsonicdreams) (0.51.2)\n",
            "Requirement already satisfied: scikit-learn!=0.19.0,>=0.14.0 in /usr/local/lib/python3.7/dist-packages (from librosa->lucidsonicdreams) (0.22.2.post1)\n",
            "Requirement already satisfied: resampy>=0.2.2 in /usr/local/lib/python3.7/dist-packages (from librosa->lucidsonicdreams) (0.2.2)\n",
            "Requirement already satisfied: audioread>=2.0.0 in /usr/local/lib/python3.7/dist-packages (from librosa->lucidsonicdreams) (2.1.9)\n",
            "Requirement already satisfied: imageio<3.0,>=2.1.2 in /usr/local/lib/python3.7/dist-packages (from moviepy->lucidsonicdreams) (2.4.1)\n",
            "Requirement already satisfied: PyWavelets>=0.4.0 in /usr/local/lib/python3.7/dist-packages (from scikit-image->lucidsonicdreams) (1.1.1)\n",
            "Requirement already satisfied: networkx>=2.0 in /usr/local/lib/python3.7/dist-packages (from scikit-image->lucidsonicdreams) (2.5)\n",
            "Requirement already satisfied: matplotlib!=3.0.0,>=2.0.0 in /usr/local/lib/python3.7/dist-packages (from scikit-image->lucidsonicdreams) (3.2.2)\n",
            "Collecting cached-property\n",
            "  Downloading https://files.pythonhosted.org/packages/48/19/f2090f7dad41e225c7f2326e4cfe6fff49e57dedb5b53636c9551f86b069/cached_property-1.5.2-py2.py3-none-any.whl\n",
            "Requirement already satisfied: cffi>=1.4.0 in /usr/local/lib/python3.7/dist-packages (from pygit2->lucidsonicdreams) (1.14.5)\n",
            "Collecting tenacity<6.0.0,>=5.1.5\n",
            "  Downloading https://files.pythonhosted.org/packages/45/67/67bb1db087678bc5c6f20766cf18914dfe37b0b9d4e4c5bb87408460b75f/tenacity-5.1.5-py2.py3-none-any.whl\n",
            "Requirement already satisfied: pathlib==1.0.1 in /usr/local/lib/python3.7/dist-packages (from mega.py->lucidsonicdreams) (1.0.1)\n",
            "Collecting pycryptodome<4.0.0,>=3.9.6\n",
            "\u001b[?25l  Downloading https://files.pythonhosted.org/packages/ad/16/9627ab0493894a11c68e46000dbcc82f578c8ff06bc2980dcd016aea9bd3/pycryptodome-3.10.1-cp35-abi3-manylinux2010_x86_64.whl (1.9MB)\n",
            "\u001b[K     |████████████████████████████████| 1.9MB 51.8MB/s \n",
            "\u001b[?25hRequirement already satisfied: certifi>=2017.4.17 in /usr/local/lib/python3.7/dist-packages (from requests->lucidsonicdreams) (2020.12.5)\n",
            "Requirement already satisfied: chardet<4,>=3.0.2 in /usr/local/lib/python3.7/dist-packages (from requests->lucidsonicdreams) (3.0.4)\n",
            "Requirement already satisfied: urllib3!=1.25.0,!=1.25.1,<1.26,>=1.21.1 in /usr/local/lib/python3.7/dist-packages (from requests->lucidsonicdreams) (1.24.3)\n",
            "Requirement already satisfied: idna<3,>=2.5 in /usr/local/lib/python3.7/dist-packages (from requests->lucidsonicdreams) (2.10)\n",
            "Requirement already satisfied: pytz>=2017.2 in /usr/local/lib/python3.7/dist-packages (from pandas->lucidsonicdreams) (2018.9)\n",
            "Requirement already satisfied: python-dateutil>=2.7.3 in /usr/local/lib/python3.7/dist-packages (from pandas->lucidsonicdreams) (2.8.1)\n",
            "Requirement already satisfied: h5py in /usr/local/lib/python3.7/dist-packages (from keras-applications>=1.0.8->tensorflow==1.15->lucidsonicdreams) (2.10.0)\n",
            "Requirement already satisfied: setuptools in /usr/local/lib/python3.7/dist-packages (from protobuf>=3.6.1->tensorflow==1.15->lucidsonicdreams) (54.0.0)\n",
            "Requirement already satisfied: markdown>=2.6.8 in /usr/local/lib/python3.7/dist-packages (from tensorboard<1.16.0,>=1.15.0->tensorflow==1.15->lucidsonicdreams) (3.3.4)\n",
            "Requirement already satisfied: werkzeug>=0.11.15 in /usr/local/lib/python3.7/dist-packages (from tensorboard<1.16.0,>=1.15.0->tensorflow==1.15->lucidsonicdreams) (1.0.1)\n",
            "Requirement already satisfied: packaging in /usr/local/lib/python3.7/dist-packages (from pooch>=1.0->librosa->lucidsonicdreams) (20.9)\n",
            "Requirement already satisfied: appdirs in /usr/local/lib/python3.7/dist-packages (from pooch>=1.0->librosa->lucidsonicdreams) (1.4.4)\n",
            "Requirement already satisfied: llvmlite<0.35,>=0.34.0.dev0 in /usr/local/lib/python3.7/dist-packages (from numba>=0.43.0->librosa->lucidsonicdreams) (0.34.0)\n",
            "Requirement already satisfied: cycler>=0.10 in /usr/local/lib/python3.7/dist-packages (from matplotlib!=3.0.0,>=2.0.0->scikit-image->lucidsonicdreams) (0.10.0)\n",
            "Requirement already satisfied: kiwisolver>=1.0.1 in /usr/local/lib/python3.7/dist-packages (from matplotlib!=3.0.0,>=2.0.0->scikit-image->lucidsonicdreams) (1.3.1)\n",
            "Requirement already satisfied: pyparsing!=2.0.4,!=2.1.2,!=2.1.6,>=2.0.1 in /usr/local/lib/python3.7/dist-packages (from matplotlib!=3.0.0,>=2.0.0->scikit-image->lucidsonicdreams) (2.4.7)\n",
            "Requirement already satisfied: pycparser in /usr/local/lib/python3.7/dist-packages (from cffi>=1.4.0->pygit2->lucidsonicdreams) (2.20)\n",
            "Requirement already satisfied: importlib-metadata; python_version < \"3.8\" in /usr/local/lib/python3.7/dist-packages (from markdown>=2.6.8->tensorboard<1.16.0,>=1.15.0->tensorflow==1.15->lucidsonicdreams) (3.7.2)\n",
            "Requirement already satisfied: zipp>=0.5 in /usr/local/lib/python3.7/dist-packages (from importlib-metadata; python_version < \"3.8\"->markdown>=2.6.8->tensorboard<1.16.0,>=1.15.0->tensorflow==1.15->lucidsonicdreams) (3.4.1)\n",
            "Requirement already satisfied: typing-extensions>=3.6.4; python_version < \"3.8\" in /usr/local/lib/python3.7/dist-packages (from importlib-metadata; python_version < \"3.8\"->markdown>=2.6.8->tensorboard<1.16.0,>=1.15.0->tensorflow==1.15->lucidsonicdreams) (3.7.4.3)\n",
            "Building wheels for collected packages: lucidsonicdreams, gast\n",
            "  Building wheel for lucidsonicdreams (setup.py) ... \u001b[?25l\u001b[?25hdone\n",
            "  Created wheel for lucidsonicdreams: filename=lucidsonicdreams-0.4-cp37-none-any.whl size=11500 sha256=2bbc53d218228ef21d972408ff9bb041d8014c33bc1ad4e979f707770e9387c6\n",
            "  Stored in directory: /root/.cache/pip/wheels/9c/97/52/70c4ed96ba0b0a21b938fb984b51f3c910f4f7af0afbb14400\n",
            "  Building wheel for gast (setup.py) ... \u001b[?25l\u001b[?25hdone\n",
            "  Created wheel for gast: filename=gast-0.2.2-cp37-none-any.whl size=7540 sha256=3099f9d7c4eb6f8c9d77b59bc1121d342425aa0f0fe811ad68d999e6ec1b36f2\n",
            "  Stored in directory: /root/.cache/pip/wheels/5c/2e/7e/a1d4d4fcebe6c381f378ce7743a3ced3699feb89bcfbdadadd\n",
            "Successfully built lucidsonicdreams gast\n",
            "\u001b[31mERROR: tensorflow-probability 0.12.1 has requirement gast>=0.3.2, but you'll have gast 0.2.2 which is incompatible.\u001b[0m\n",
            "Installing collected packages: tensorflow-estimator, gast, keras-applications, tensorboard, tensorflow, cached-property, pygit2, tenacity, pycryptodome, mega.py, lucidsonicdreams\n",
            "  Found existing installation: tensorflow-estimator 2.4.0\n",
            "    Uninstalling tensorflow-estimator-2.4.0:\n",
            "      Successfully uninstalled tensorflow-estimator-2.4.0\n",
            "  Found existing installation: gast 0.3.3\n",
            "    Uninstalling gast-0.3.3:\n",
            "      Successfully uninstalled gast-0.3.3\n",
            "  Found existing installation: tensorboard 2.4.1\n",
            "    Uninstalling tensorboard-2.4.1:\n",
            "      Successfully uninstalled tensorboard-2.4.1\n",
            "  Found existing installation: tensorflow 2.4.1\n",
            "    Uninstalling tensorflow-2.4.1:\n",
            "      Successfully uninstalled tensorflow-2.4.1\n",
            "Successfully installed cached-property-1.5.2 gast-0.2.2 keras-applications-1.0.8 lucidsonicdreams-0.4 mega.py-1.0.8 pycryptodome-3.10.1 pygit2-1.5.0 tenacity-5.1.5 tensorboard-1.15.0 tensorflow-1.15.0 tensorflow-estimator-1.15.1\n"
          ],
          "name": "stdout"
        }
      ]
    },
    {
      "cell_type": "markdown",
      "metadata": {
        "id": "63dO9FBu1Mv0"
      },
      "source": [
        "# B. Generate Sample Videos"
      ]
    },
    {
      "cell_type": "markdown",
      "metadata": {
        "id": "7AgAsUB54ej8"
      },
      "source": [
        "## B.1. Choosing a Style\r\n",
        "\r\n",
        "Styles can be selected using the **style** parameter, which takes in any of the following:\r\n",
        "\r\n",
        "*   A valid default style name provided by the package. Run **show_styles()** to print valid values. *Note: These styles are loaded from [this repository](https://github.com/justinpinkney/awesome-pretrained-stylegan2) by Justin Pinkney.*\r\n",
        "\r\n",
        "*   A path to a .pkl file that contains pre-trained StyleGAN weights\r\n",
        "\r\n",
        "*   A custom function that takes noise_batch and class_batch parameters and outputs a list of Pillow Images (see example in **B.5**)\r\n",
        "\r\n",
        "\r\n",
        "\r\n"
      ]
    },
    {
      "cell_type": "code",
      "metadata": {
        "id": "ak17n4mm81Hm",
        "colab": {
          "base_uri": "https://localhost:8080/"
        },
        "outputId": "63db4166-e1ac-4726-c371-79eae25b846a"
      },
      "source": [
        "from lucidsonicdreams import show_styles \r\n",
        "\r\n",
        "# Show valid default style names. \r\n",
        "show_styles()"
      ],
      "execution_count": null,
      "outputs": [
        {
          "output_type": "stream",
          "text": [
            "beetles\n",
            "doors\n",
            "flowers\n",
            "floor plans\n",
            "faces (ffhq config-f 512x512)\n",
            "ffhq faces\n",
            "wikiart faces\n",
            "vases\n",
            "lsun cars\n",
            "wikiart\n",
            "faces (ffhq slim 256x256)\n",
            "obama\n",
            "panda\n",
            "cakes\n",
            "pokemon\n",
            "wildlife\n",
            "maps\n",
            "car (config-f)\n",
            "lsun cats\n",
            "cifar 10\n",
            "faces (ffhq config-f)\n",
            "cifar 100\n",
            "my little pony\n",
            "microscope images\n",
            "imagenet\n",
            "figure drawings\n",
            "fursona\n",
            "faces (ffhq config-e)\n",
            "anime portraits\n",
            "modern art\n",
            "textures\n",
            "butterflies\n",
            "more abstract art\n",
            "cat\n",
            "abstract art\n",
            "grumpy cat\n",
            "car (config-e)\n",
            "lsun bedrooms\n",
            "anime faces\n",
            "painting faces\n",
            "celeba hq faces\n",
            "horse\n",
            "abstract photos\n",
            "ukiyoe faces\n",
            "ukiyo-e faces\n",
            "fireworks\n",
            "church\n",
            "trypophobia\n",
            "faces (ffhq config-e 256x256)\n"
          ],
          "name": "stdout"
        }
      ]
    },
    {
      "cell_type": "markdown",
      "metadata": {
        "id": "YNnHbJgB2EWk"
      },
      "source": [
        "## B.2. Using Default Settings\r\n",
        "\r\n",
        "This package is set-up so that the only arguments required are the **file path to your audio track** and the **file name of the video output**. This code snippet outputs a 45-second, low-resolution preview of a video using the \"modern art\" style, and all the other default settings."
      ]
    },
    {
      "cell_type": "code",
      "metadata": {
        "id": "Z7DkKcO9cfM_",
        "colab": {
          "base_uri": "https://localhost:8080/",
          "height": 1000
        },
        "outputId": "6c515dde-2e85-483b-a7d0-3f5281f1c3c4"
      },
      "source": [
        "from lucidsonicdreams import LucidSonicDream\r\n",
        "from google.colab import files\r\n",
        "\r\n",
        "L = LucidSonicDream(song = 'raspberry.mp3',\r\n",
        "                    style = 'anime portraits') #You can change the style by using any style shown above \r\n",
        "\r\n",
        "L.hallucinate(file_name = 'raspberry.mp4',\r\n",
        "              resolution = 360,  # You can set a higher resolution. Higher resolutions will result in slower renders.\r\n",
        "              duration = 20, # Set the duration of the video (Seconds)\r\n",
        "              pulse_react = 1.2,\r\n",
        "              motion_react = 0.7,\r\n",
        "              contrast_strength = 0.5,\r\n",
        "              flash_strength = 0.5)\r\n",
        "\r\n",
        "files.download(\"raspberry.mp4\")"
      ],
      "execution_count": null,
      "outputs": [
        {
          "output_type": "stream",
          "text": [
            "Permission denied: https://drive.google.com/uc?id=19hNptJSXji_9h7DMJBVlEMe-izWXvkYQ\n",
            "Maybe you need to change permission over 'Anyone with the link'?\n",
            "Preparing style...\n",
            "Preparing audio...\n",
            "Loading effects...\n",
            "\n",
            "\n",
            "Doing math...\n",
            "\n"
          ],
          "name": "stdout"
        },
        {
          "output_type": "stream",
          "text": [
            "\r  0%|          | 0/862 [00:00<?, ?it/s]"
          ],
          "name": "stderr"
        },
        {
          "output_type": "stream",
          "text": [
            "\n",
            "\n",
            "Hallucinating... \n",
            "\n"
          ],
          "name": "stdout"
        },
        {
          "output_type": "stream",
          "text": [
            "100%|██████████| 862/862 [01:40<00:00,  8.58it/s]\n"
          ],
          "name": "stderr"
        },
        {
          "output_type": "stream",
          "text": [
            "[MoviePy] >>>> Building video raspberry.mp4\n",
            "[MoviePy] Writing audio in raspberryTEMP_MPY_wvf_snd.mp4\n"
          ],
          "name": "stdout"
        },
        {
          "output_type": "stream",
          "text": [
            "\n",
            "  0%|          | 0/442 [00:00<?, ?it/s]\u001b[A\n",
            " 15%|█▌        | 67/442 [00:00<00:00, 654.55it/s]\u001b[A\n",
            " 29%|██▉       | 130/442 [00:00<00:00, 646.43it/s]\u001b[A\n",
            " 41%|████      | 180/442 [00:00<00:00, 590.02it/s]\u001b[A\n",
            " 53%|█████▎    | 233/442 [00:00<00:00, 568.93it/s]\u001b[A\n",
            " 67%|██████▋   | 295/442 [00:00<00:00, 581.36it/s]\u001b[A\n",
            " 78%|███████▊  | 343/442 [00:00<00:00, 535.00it/s]\u001b[A\n",
            " 88%|████████▊ | 390/442 [00:00<00:00, 504.25it/s]\u001b[A\n",
            "100%|██████████| 442/442 [00:00<00:00, 518.53it/s]"
          ],
          "name": "stderr"
        },
        {
          "output_type": "stream",
          "text": [
            "[MoviePy] Done.\n",
            "[MoviePy] Writing video raspberry.mp4\n"
          ],
          "name": "stdout"
        },
        {
          "output_type": "stream",
          "text": [
            "\n",
            "\n",
            "  0%|          | 0/862 [00:00<?, ?it/s]\u001b[A\n",
            "  2%|▏         | 17/862 [00:00<00:05, 167.19it/s]\u001b[A\n",
            "  4%|▍         | 34/862 [00:00<00:05, 165.59it/s]\u001b[A\n",
            "  6%|▌         | 49/862 [00:00<00:05, 158.13it/s]\u001b[A\n",
            "  7%|▋         | 62/862 [00:00<00:05, 145.94it/s]\u001b[A\n",
            "  8%|▊         | 73/862 [00:00<00:06, 125.88it/s]\u001b[A\n",
            " 10%|▉         | 84/862 [00:00<00:06, 111.93it/s]\u001b[A\n",
            " 11%|█         | 94/862 [00:00<00:07, 105.65it/s]\u001b[A\n",
            " 12%|█▏        | 104/862 [00:00<00:07, 98.84it/s]\u001b[A\n",
            " 13%|█▎        | 114/862 [00:00<00:07, 93.67it/s]\u001b[A\n",
            " 14%|█▍        | 124/862 [00:01<00:08, 87.65it/s]\u001b[A\n",
            " 15%|█▌        | 133/862 [00:01<00:08, 84.52it/s]\u001b[A\n",
            " 16%|█▋        | 142/862 [00:01<00:09, 76.10it/s]\u001b[A\n",
            " 17%|█▋        | 150/862 [00:01<00:09, 73.44it/s]\u001b[A\n",
            " 18%|█▊        | 158/862 [00:01<00:09, 71.08it/s]\u001b[A\n",
            " 19%|█▉        | 166/862 [00:01<00:09, 70.60it/s]\u001b[A\n",
            " 20%|██        | 174/862 [00:01<00:09, 69.16it/s]\u001b[A\n",
            " 21%|██        | 181/862 [00:01<00:09, 68.46it/s]\u001b[A\n",
            " 22%|██▏       | 188/862 [00:02<00:10, 66.87it/s]\u001b[A\n",
            " 23%|██▎       | 196/862 [00:02<00:09, 67.61it/s]\u001b[A\n",
            " 24%|██▎       | 203/862 [00:02<00:10, 65.29it/s]\u001b[A\n",
            " 24%|██▍       | 210/862 [00:02<00:10, 63.79it/s]\u001b[A\n",
            " 25%|██▌       | 217/862 [00:02<00:10, 62.81it/s]\u001b[A\n",
            " 26%|██▌       | 224/862 [00:02<00:10, 62.09it/s]\u001b[A\n",
            " 27%|██▋       | 231/862 [00:02<00:10, 61.78it/s]\u001b[A\n",
            " 28%|██▊       | 238/862 [00:02<00:10, 61.56it/s]\u001b[A\n",
            " 28%|██▊       | 245/862 [00:03<00:09, 61.96it/s]\u001b[A\n",
            " 29%|██▉       | 252/862 [00:03<00:11, 54.82it/s]\u001b[A\n",
            " 30%|██▉       | 258/862 [00:03<00:12, 49.78it/s]\u001b[A\n",
            " 31%|███       | 265/862 [00:03<00:11, 53.46it/s]\u001b[A\n",
            " 31%|███▏      | 271/862 [00:03<00:10, 54.86it/s]\u001b[A\n",
            " 32%|███▏      | 277/862 [00:03<00:10, 55.05it/s]\u001b[A\n",
            " 33%|███▎      | 283/862 [00:03<00:10, 54.49it/s]\u001b[A\n",
            " 34%|███▎      | 290/862 [00:03<00:10, 56.24it/s]\u001b[A\n",
            " 34%|███▍      | 297/862 [00:03<00:09, 59.21it/s]\u001b[A\n",
            " 35%|███▌      | 304/862 [00:04<00:09, 59.87it/s]\u001b[A\n",
            " 36%|███▌      | 311/862 [00:04<00:09, 60.56it/s]\u001b[A\n",
            " 37%|███▋      | 318/862 [00:04<00:08, 63.07it/s]\u001b[A\n",
            " 38%|███▊      | 325/862 [00:04<00:08, 64.95it/s]\u001b[A\n",
            " 39%|███▊      | 332/862 [00:04<00:08, 66.25it/s]\u001b[A\n",
            " 39%|███▉      | 339/862 [00:04<00:08, 64.87it/s]\u001b[A\n",
            " 40%|████      | 347/862 [00:04<00:07, 67.67it/s]\u001b[A\n",
            " 41%|████      | 354/862 [00:04<00:07, 66.37it/s]\u001b[A\n",
            " 42%|████▏     | 361/862 [00:04<00:08, 59.50it/s]\u001b[A\n",
            " 43%|████▎     | 368/862 [00:05<00:08, 60.21it/s]\u001b[A\n",
            " 44%|████▎     | 375/862 [00:05<00:07, 62.80it/s]\u001b[A\n",
            " 44%|████▍     | 382/862 [00:05<00:07, 63.10it/s]\u001b[A\n",
            " 45%|████▌     | 390/862 [00:05<00:07, 65.82it/s]\u001b[A\n",
            " 46%|████▋     | 399/862 [00:05<00:06, 68.84it/s]\u001b[A\n",
            " 47%|████▋     | 406/862 [00:05<00:06, 67.76it/s]\u001b[A\n",
            " 48%|████▊     | 413/862 [00:05<00:06, 65.71it/s]\u001b[A\n",
            " 49%|████▊     | 420/862 [00:05<00:06, 64.86it/s]\u001b[A\n",
            " 50%|████▉     | 427/862 [00:05<00:07, 61.27it/s]\u001b[A\n",
            " 50%|█████     | 434/862 [00:06<00:07, 56.07it/s]\u001b[A\n",
            " 51%|█████     | 440/862 [00:06<00:07, 55.92it/s]\u001b[A\n",
            " 52%|█████▏    | 446/862 [00:06<00:07, 53.33it/s]\u001b[A\n",
            " 53%|█████▎    | 453/862 [00:06<00:07, 56.51it/s]\u001b[A\n",
            " 53%|█████▎    | 459/862 [00:06<00:07, 57.47it/s]\u001b[A\n",
            " 54%|█████▍    | 466/862 [00:06<00:06, 58.88it/s]\u001b[A\n",
            " 55%|█████▍    | 473/862 [00:06<00:06, 60.96it/s]\u001b[A\n",
            " 56%|█████▌    | 480/862 [00:06<00:06, 61.12it/s]\u001b[A\n",
            " 56%|█████▋    | 487/862 [00:07<00:06, 59.66it/s]\u001b[A\n",
            " 57%|█████▋    | 494/862 [00:07<00:06, 60.23it/s]\u001b[A\n",
            " 58%|█████▊    | 501/862 [00:07<00:05, 60.24it/s]\u001b[A\n",
            " 59%|█████▉    | 508/862 [00:07<00:06, 55.62it/s]\u001b[A\n",
            " 60%|█████▉    | 515/862 [00:07<00:05, 58.36it/s]\u001b[A\n",
            " 60%|██████    | 521/862 [00:07<00:06, 54.31it/s]\u001b[A\n",
            " 61%|██████    | 527/862 [00:07<00:06, 53.10it/s]\u001b[A\n",
            " 62%|██████▏   | 534/862 [00:07<00:05, 55.46it/s]\u001b[A\n",
            " 63%|██████▎   | 541/862 [00:07<00:05, 57.08it/s]\u001b[A\n",
            " 64%|██████▎   | 549/862 [00:08<00:05, 57.71it/s]\u001b[A\n",
            " 64%|██████▍   | 555/862 [00:08<00:05, 56.02it/s]\u001b[A\n",
            " 65%|██████▌   | 561/862 [00:08<00:05, 53.36it/s]\u001b[A\n",
            " 66%|██████▌   | 567/862 [00:08<00:05, 52.21it/s]\u001b[A\n",
            " 66%|██████▋   | 573/862 [00:08<00:05, 52.76it/s]\u001b[A\n",
            " 67%|██████▋   | 580/862 [00:08<00:05, 54.27it/s]\u001b[A\n",
            " 68%|██████▊   | 587/862 [00:08<00:04, 57.45it/s]\u001b[A\n",
            " 69%|██████▉   | 595/862 [00:08<00:04, 58.26it/s]\u001b[A\n",
            " 70%|██████▉   | 602/862 [00:09<00:04, 60.72it/s]\u001b[A\n",
            " 71%|███████   | 609/862 [00:09<00:04, 58.20it/s]\u001b[A\n",
            " 71%|███████▏  | 615/862 [00:09<00:04, 54.90it/s]\u001b[A\n",
            " 72%|███████▏  | 621/862 [00:09<00:04, 54.69it/s]\u001b[A\n",
            " 73%|███████▎  | 627/862 [00:09<00:04, 55.26it/s]\u001b[A\n",
            " 73%|███████▎  | 633/862 [00:09<00:04, 53.44it/s]\u001b[A\n",
            " 74%|███████▍  | 639/862 [00:09<00:04, 49.54it/s]\u001b[A\n",
            " 75%|███████▍  | 645/862 [00:09<00:04, 50.58it/s]\u001b[A\n",
            " 76%|███████▌  | 651/862 [00:10<00:04, 49.36it/s]\u001b[A\n",
            " 76%|███████▌  | 656/862 [00:10<00:04, 49.27it/s]\u001b[A\n",
            " 77%|███████▋  | 662/862 [00:10<00:03, 51.78it/s]\u001b[A\n",
            " 78%|███████▊  | 669/862 [00:10<00:03, 54.83it/s]\u001b[A\n",
            " 78%|███████▊  | 675/862 [00:10<00:03, 55.54it/s]\u001b[A\n",
            " 79%|███████▉  | 682/862 [00:10<00:03, 58.83it/s]\u001b[A\n",
            " 80%|████████  | 690/862 [00:10<00:02, 63.79it/s]\u001b[A\n",
            " 81%|████████  | 697/862 [00:10<00:02, 65.33it/s]\u001b[A\n",
            " 82%|████████▏ | 706/862 [00:10<00:02, 68.05it/s]\u001b[A\n",
            " 83%|████████▎ | 715/862 [00:10<00:02, 72.14it/s]\u001b[A\n",
            " 84%|████████▍ | 723/862 [00:11<00:01, 71.34it/s]\u001b[A\n",
            " 85%|████████▍ | 731/862 [00:11<00:01, 66.65it/s]\u001b[A\n",
            " 86%|████████▌ | 738/862 [00:11<00:01, 63.48it/s]\u001b[A\n",
            " 86%|████████▋ | 745/862 [00:11<00:01, 60.05it/s]\u001b[A\n",
            " 87%|████████▋ | 752/862 [00:11<00:01, 57.68it/s]\u001b[A\n",
            " 88%|████████▊ | 758/862 [00:11<00:01, 56.42it/s]\u001b[A\n",
            " 89%|████████▊ | 764/862 [00:11<00:01, 56.57it/s]\u001b[A\n",
            " 89%|████████▉ | 770/862 [00:11<00:01, 56.74it/s]\u001b[A\n",
            " 90%|█████████ | 778/862 [00:12<00:01, 61.11it/s]\u001b[A\n",
            " 91%|█████████ | 785/862 [00:12<00:01, 61.54it/s]\u001b[A\n",
            " 92%|█████████▏| 792/862 [00:12<00:01, 62.70it/s]\u001b[A\n",
            " 93%|█████████▎| 799/862 [00:12<00:01, 57.15it/s]\u001b[A\n",
            " 94%|█████████▎| 807/862 [00:12<00:00, 59.28it/s]\u001b[A\n",
            " 94%|█████████▍| 814/862 [00:12<00:00, 61.31it/s]\u001b[A\n",
            " 95%|█████████▌| 821/862 [00:12<00:00, 58.00it/s]\u001b[A\n",
            " 96%|█████████▌| 827/862 [00:12<00:00, 55.74it/s]\u001b[A\n",
            " 97%|█████████▋| 833/862 [00:13<00:00, 54.65it/s]\u001b[A\n",
            " 97%|█████████▋| 839/862 [00:13<00:00, 53.34it/s]\u001b[A\n",
            " 98%|█████████▊| 845/862 [00:13<00:00, 54.83it/s]\u001b[A\n",
            " 99%|█████████▊| 851/862 [00:13<00:00, 52.83it/s]\u001b[A\n",
            "100%|██████████| 862/862 [00:13<00:00, 63.68it/s]\n"
          ],
          "name": "stderr"
        },
        {
          "output_type": "stream",
          "text": [
            "[MoviePy] Done.\n",
            "[MoviePy] >>>> Video ready: raspberry.mp4 \n",
            "\n"
          ],
          "name": "stdout"
        },
        {
          "output_type": "display_data",
          "data": {
            "application/javascript": [
              "\n",
              "    async function download(id, filename, size) {\n",
              "      if (!google.colab.kernel.accessAllowed) {\n",
              "        return;\n",
              "      }\n",
              "      const div = document.createElement('div');\n",
              "      const label = document.createElement('label');\n",
              "      label.textContent = `Downloading \"${filename}\": `;\n",
              "      div.appendChild(label);\n",
              "      const progress = document.createElement('progress');\n",
              "      progress.max = size;\n",
              "      div.appendChild(progress);\n",
              "      document.body.appendChild(div);\n",
              "\n",
              "      const buffers = [];\n",
              "      let downloaded = 0;\n",
              "\n",
              "      const channel = await google.colab.kernel.comms.open(id);\n",
              "      // Send a message to notify the kernel that we're ready.\n",
              "      channel.send({})\n",
              "\n",
              "      for await (const message of channel.messages) {\n",
              "        // Send a message to notify the kernel that we're ready.\n",
              "        channel.send({})\n",
              "        if (message.buffers) {\n",
              "          for (const buffer of message.buffers) {\n",
              "            buffers.push(buffer);\n",
              "            downloaded += buffer.byteLength;\n",
              "            progress.value = downloaded;\n",
              "          }\n",
              "        }\n",
              "      }\n",
              "      const blob = new Blob(buffers, {type: 'application/binary'});\n",
              "      const a = document.createElement('a');\n",
              "      a.href = window.URL.createObjectURL(blob);\n",
              "      a.download = filename;\n",
              "      div.appendChild(a);\n",
              "      a.click();\n",
              "      div.remove();\n",
              "    }\n",
              "  "
            ],
            "text/plain": [
              "<IPython.core.display.Javascript object>"
            ]
          },
          "metadata": {
            "tags": []
          }
        },
        {
          "output_type": "display_data",
          "data": {
            "application/javascript": [
              "download(\"download_1a368604-fc14-4232-810d-ed6911ce71d1\", \"raspberry.mp4\", 4422335)"
            ],
            "text/plain": [
              "<IPython.core.display.Javascript object>"
            ]
          },
          "metadata": {
            "tags": []
          }
        }
      ]
    }
  ]
}